{
 "cells": [
  {
   "cell_type": "markdown",
   "metadata": {},
   "source": [
    "## Question 1 and 2:\n",
    "I did the question 2 first since I needed its results to be used for the answer of Q1. \n",
    "Firstly, I want to make a questions profile table:\n"
   ]
  },
  {
   "cell_type": "code",
   "execution_count": 62,
   "metadata": {},
   "outputs": [
    {
     "name": "stdout",
     "output_type": "stream",
     "text": [
      "Collecting package metadata (repodata.json): done\n",
      "Solving environment: failed\n",
      "\n",
      "PackagesNotFoundError: The following packages are missing from the target environment:\n",
      "  - matplotlib\n",
      "\n",
      "\n",
      "\n",
      "Note: you may need to restart the kernel to use updated packages.\n"
     ]
    }
   ],
   "source": [
    "conda remove matplotlib"
   ]
  },
  {
   "cell_type": "code",
   "execution_count": 64,
   "metadata": {},
   "outputs": [
    {
     "name": "stdout",
     "output_type": "stream",
     "text": [
      "Collecting package metadata (current_repodata.json): done\n",
      "Solving environment: done\n",
      "\n",
      "## Package Plan ##\n",
      "\n",
      "  environment location: /opt/anaconda3\n",
      "\n",
      "  added / updated specs:\n",
      "    - matplotlib\n",
      "\n",
      "\n",
      "The following packages will be downloaded:\n",
      "\n",
      "    package                    |            build\n",
      "    ---------------------------|-----------------\n",
      "    kiwisolver-1.3.1           |   py37h23ab428_0          52 KB\n",
      "    matplotlib-3.4.3           |   py37hecd8cb5_0          28 KB\n",
      "    matplotlib-base-3.4.3      |   py37h0a11d32_0         5.6 MB\n",
      "    ------------------------------------------------------------\n",
      "                                           Total:         5.6 MB\n",
      "\n",
      "The following NEW packages will be INSTALLED:\n",
      "\n",
      "  brotli             pkgs/main/osx-64::brotli-1.0.9-hb1e8313_2\n",
      "  cycler             pkgs/main/osx-64::cycler-0.10.0-py37_0\n",
      "  fonttools          pkgs/main/noarch::fonttools-4.25.0-pyhd3eb1b0_0\n",
      "  kiwisolver         pkgs/main/osx-64::kiwisolver-1.3.1-py37h23ab428_0\n",
      "  matplotlib         pkgs/main/osx-64::matplotlib-3.4.3-py37hecd8cb5_0\n",
      "  matplotlib-base    pkgs/main/osx-64::matplotlib-base-3.4.3-py37h0a11d32_0\n",
      "  munkres            pkgs/main/noarch::munkres-1.1.4-py_0\n",
      "\n",
      "\n",
      "\n",
      "Downloading and Extracting Packages\n",
      "matplotlib-base-3.4. | 5.6 MB    | ##################################### | 100% \n",
      "matplotlib-3.4.3     | 28 KB     | ##################################### | 100% \n",
      "kiwisolver-1.3.1     | 52 KB     | ##################################### | 100% \n",
      "Preparing transaction: done\n",
      "Verifying transaction: done\n",
      "Executing transaction: done\n",
      "\n",
      "Note: you may need to restart the kernel to use updated packages.\n"
     ]
    }
   ],
   "source": [
    "conda install matplotlib"
   ]
  },
  {
   "cell_type": "code",
   "execution_count": 1,
   "metadata": {},
   "outputs": [],
   "source": [
    "# Importing the required libraries \n",
    "import numpy as np\n",
    "import pandas as pd\n",
    "import csv\n",
    "import os"
   ]
  },
  {
   "cell_type": "code",
   "execution_count": 65,
   "metadata": {},
   "outputs": [],
   "source": [
    "import matplotlib.pyplot as plt"
   ]
  },
  {
   "cell_type": "markdown",
   "metadata": {},
   "source": [
    "### Question 2:\n",
    "#### What are the questions/items? Question ID, Question Type, Number of times being practiced, Number of times answered correctly\n",
    "I read all of the aforementioned information for table 2, \"answer\" column means the number of answeres that is submitted for a certain question. C_answer means the number of correct answeres that is submitted for a certain question. I also difeined a \"difficulty\" column. It means for each question we calculate its dificulty level, and put in this coulmn. If \"C_answer\"/\"answer\" is more than 0.5 then, the difficulty level is 1, and the question is easy. If \"C_answer\"/\"answer\"< 0.5 then the question is hard or at least not easy (difficulty\"=2)\n",
    "#### Create a few plots to illustrate the information in the tables. Feel free to choose the type of plots you think is appropriate. \n",
    "Added."
   ]
  },
  {
   "cell_type": "markdown",
   "metadata": {},
   "source": [
    "### Table 2:"
   ]
  },
  {
   "cell_type": "code",
   "execution_count": 2,
   "metadata": {},
   "outputs": [],
   "source": [
    "# Here, I just defined the headers of my table \"table 2\", and a csv file that will contain the information of table 2\n",
    "# Q_ID means question ID\n",
    "#Type : type of  question\n",
    "#number_of_answers : the  number of  people who have answered this question \n",
    "#number_of_C_answers : number  people who have answered this question correctly\n",
    "# difficulty: the  question difficulty  level\n",
    "header = ['Q_ID','Type','number_of_answers','number_of_C_answers','difficulty']\n",
    "with open('Final2.csv','w',encoding = 'UTF8',newline='') as f:\n",
    "    writer = csv.writer(f)        \n",
    "    writer.writerow(header)"
   ]
  },
  {
   "cell_type": "code",
   "execution_count": 3,
   "metadata": {},
   "outputs": [],
   "source": [
    "# we juts get the user IDs which are the user folder names in a list called arr\n",
    "#so,len(arr) means the number of  users\n",
    "arr = os.listdir('KT4')\n",
    "L = len (arr)"
   ]
  },
  {
   "cell_type": "code",
   "execution_count": 4,
   "metadata": {},
   "outputs": [
    {
     "name": "stdout",
     "output_type": "stream",
     "text": [
      "297916\n"
     ]
    }
   ],
   "source": [
    "print(L)"
   ]
  },
  {
   "cell_type": "code",
   "execution_count": 5,
   "metadata": {},
   "outputs": [],
   "source": [
    "#  Then, we read the questions table in a csv file in a dataframe, but I converted it to numpy  array later since  it really\n",
    "# helped  with  the speed! Numpy array \"where\" order made a  very time consuming  process fast!\n",
    "# df_c provides us with the correct answer of each question\n",
    "# we again converted it  to numpy array to be able to use \"where\" order which really helps with speed\n",
    "df_c = pd.read_csv('contents/questions.csv')\n",
    "array = df_c.to_numpy() "
   ]
  },
  {
   "cell_type": "code",
   "execution_count": 6,
   "metadata": {},
   "outputs": [
    {
     "name": "stdout",
     "output_type": "stream",
     "text": [
      "      question_id bundle_id explanation_id correct_answer  part  \\\n",
      "0              q1        b1             e1              b     1   \n",
      "1              q2        b2             e2              a     1   \n",
      "2              q3        b3             e3              b     1   \n",
      "3              q4        b4             e4              b     1   \n",
      "4              q5        b5             e5              c     1   \n",
      "...           ...       ...            ...            ...   ...   \n",
      "13164      q18139    b12202         e12202              b     2   \n",
      "13165      q18140    b12203         e12203              a     2   \n",
      "13166      q18141    b12204         e12204              a     2   \n",
      "13167      q18142    b12205         e12205              a     2   \n",
      "13168      q18143    b12206         e12206              c     2   \n",
      "\n",
      "                   tags    deployed_at  \n",
      "0           1;2;179;181  1558093217098  \n",
      "1              15;2;182  1558093219720  \n",
      "2          14;2;179;183  1558093222784  \n",
      "3           9;2;179;184  1558093225357  \n",
      "4           8;2;179;181  1558093228439  \n",
      "...                 ...            ...  \n",
      "13164     24;26;183;182  1571733814684  \n",
      "13165     24;33;183;182  1571733815331  \n",
      "13166     24;26;183;182  1571733815951  \n",
      "13167     24;26;183;182  1571733816585  \n",
      "13168  27;24;26;183;182  1571733817400  \n",
      "\n",
      "[13169 rows x 7 columns]\n"
     ]
    }
   ],
   "source": [
    "print(df_c)"
   ]
  },
  {
   "cell_type": "code",
   "execution_count": 7,
   "metadata": {},
   "outputs": [],
   "source": [
    "# two arrays are defined below. One of then \"NUM\" is for recieving the number of asnwers for each question\n",
    "# the second array which is \"Q_num\" refers to the number of answers which are correct (for each question)\n",
    "\n",
    "NUM = []\n",
    "Q_num = []\n",
    "# I gave 0 as all of the elements of the arrays. Then, we do have a predifined value for the elements which we can \n",
    "#update them. This makes us avoid from getting errors due to undifined elements of the arrays. So, if  an element of\n",
    "#the arrays is not processed before we will not get an error for it.\n",
    "Q_num[0:] = [0] * len(df_c) \n",
    "NUM[0:] = [0] * len(df_c) \n",
    "\n",
    "#correct array\n",
    "# Two more arrays are defined \"C_a\" is used to get the correct answer of each question\n",
    "# \"C_ID\" is an array to be used to get the question IDs\n",
    "C_a = []\n",
    "C_ID = []\n",
    "par = [0] * len(df_c) \n",
    "for k in range (len(df_c)):\n",
    "    C_a.append(df_c.loc[k]['correct_answer'])\n",
    "    C_ID.append(df_c.loc[k]['question_id'])\n",
    "    #par[k] = int(df_c.loc[k][0].strip('q'))\n",
    "    par[k] = df_c.loc[k][0]"
   ]
  },
  {
   "cell_type": "code",
   "execution_count": 8,
   "metadata": {},
   "outputs": [],
   "source": [
    "# we will continue to solve  the problem using some \"for\"\n",
    "#Firstly, we need to read each user activites CSV file in a pandas datafarame\n",
    "# then we convert the data frames into numpy arrays to be able to use \"where\" order \n",
    "# Due to lack of speed we perform the codes for 5000 users\n",
    "#bUt with changing it to len(arr) or L we can do it for all of the users\n",
    "for j in range (5000):\n",
    "    \n",
    "\n",
    "    df = pd.read_csv('KT4/'+arr[j])\n",
    "    Arr = df.to_numpy() \n",
    "    \n",
    "    res = ''\n",
    "    q = ''\n",
    "    Res = []\n",
    "    Q_ID = []\n",
    "    CHeck = ''\n",
    "# we try to find the \"respond\" action to questions\n",
    "# A user may have multiple respond to one  question because he/she can change his/her mind about the final answer\n",
    "# we do not want to capture all of the \"respond \" actions\n",
    "# We just need their final answer to see if it is correct or not, not the previous responds\n",
    "# for solving this I found out that the last \"respond\" is followed by \"submit\"\n",
    "#  We have two ways: 1, find the \"respond\"  actions which are followed by \"submit\" action\n",
    "# Or get the last \"respond\" action info \n",
    "# The data demostrates that these two ways are the  same\n",
    "# I go with the second  way:\n",
    "# In the Res array we want to store the final \"respond\" actions\n",
    "# we append in Res the final responds\n",
    "# and in Q_ID array we store the question ID for the corresponding \"respond\" in Res ( using append)\n",
    "\n",
    "# the code below captures  all \"respond\" actions for all of the users\n",
    "    X,Y = np.where(Arr == 'respond')\n",
    "    for B in range (len(X)) :\n",
    "    # the if below says: if you get the row including \"respond\" action, and checked the question Id of it(which is [2])\n",
    "    # and it is the same as the question ID for the next \"respond\" action\n",
    "    #then it does not append it to Res, otherwise, it appends it to Res array\n",
    "    # Before appending to Res and Q_ID we have CHeck array, if they are final answers they will go to Res and Q_ID\n",
    "        if CHeck == Arr[X[B]][2] :\n",
    "            Res[len(Res)-1] = Arr[X[B]][5]\n",
    "        else :\n",
    "            Res.append(Arr[X[B]][5])\n",
    "            Q_ID.append(Arr[X[B]][2])\n",
    "        CHeck = Arr[X[B]][2]\n",
    "    num = 0\n",
    "    for p in range (len(Q_ID)):\n",
    "        \n",
    "        #x = df_c.loc[int(Q_ID[p].strip('q'))][0].strip('q')\n",
    "        #x = Q_ID[p].strip('q')\n",
    "        xx = par.index(Q_ID[p]) \n",
    "        NUM[xx] += 1\n",
    "        v = C_ID.index(Q_ID[p])\n",
    "        if Res[p] == C_a[v] :\n",
    "            Q_num[v] += 1\n",
    "        # for p in Q_ID which is the Question IDs which are responed.\n",
    "# par array had the question IDs for all of the questions\n",
    "#index checks all of the responds for each question,  and stores it in xx variable\n",
    "#  NUM[xx] gets one (counting the final responds for each question)\n",
    "# v variable checks the correct answer. If the respond  (Res[p]) is the same as the correct answer (C_a[v])\n",
    "# then it adds one to Q_num which stores  the number of correct answers\n",
    "     "
   ]
  },
  {
   "cell_type": "code",
   "execution_count": 9,
   "metadata": {},
   "outputs": [],
   "source": [
    "# Finally, we have to arrays :\n",
    "# Num that stores the number of answers\n",
    "# Q_num that stores the number of correct answers\n",
    "for m in range (len(df_c)):\n",
    "    \n",
    "    M = m+1\n",
    "    Tab = ['q'+ str(M),'N/A',NUM[m],Q_num[m]]\n",
    "    with open('Final2.csv','a',encoding = 'UTF8',newline='') as f:\n",
    "        writer = csv.writer(f)        \n",
    "        writer.writerow(Tab)    \n"
   ]
  },
  {
   "cell_type": "code",
   "execution_count": 98,
   "metadata": {},
   "outputs": [
    {
     "name": "stdout",
     "output_type": "stream",
     "text": [
      "         Q_ID  Type  answer  C_answer  difficulty\n",
      "0          q1   NaN    1598      1408         1.0\n",
      "1          q2   NaN    1519      1294         1.0\n",
      "2          q3   NaN   13835      7423         1.0\n",
      "3          q4   NaN    5086      3836         1.0\n",
      "4          q5   NaN    3750      2345         1.0\n",
      "...       ...   ...     ...       ...         ...\n",
      "13164  q13165   NaN     191       159         1.0\n",
      "13165  q13166   NaN     176       159         1.0\n",
      "13166  q13167   NaN     179       169         1.0\n",
      "13167  q13168   NaN     173       158         1.0\n",
      "13168  q13169   NaN     185       163         1.0\n",
      "\n",
      "[13169 rows x 5 columns]\n"
     ]
    }
   ],
   "source": [
    "table2 = pd.read_csv('Final2.csv')\n",
    "print(table2)"
   ]
  },
  {
   "cell_type": "code",
   "execution_count": null,
   "metadata": {},
   "outputs": [],
   "source": [
    "# in the code below we define difficulty level as follows:\n",
    "# difficulty level is 1 when number_of_C_answers/number_of_answers is more than 0.5 \n",
    "# it means more than  50 percent of the users who answered this question have answered it correctly\n",
    "# otherwise, the difficulty level is 2 and it means this question is a hard one, so less than 50 percent \n",
    "#of the people have answered it correctly.\n",
    "for i in range (len(table2)):\n",
    "    a = int(table2.loc[i,'number_of_answers'])\n",
    "    b = int(table2.loc[i,'number_of_C_answers'])\n",
    "    if a != 0 :\n",
    "        if b/a >= 0.5 :\n",
    "            table2.loc[i,'difficulty'] = 1\n",
    "        elif b/a <= 0.5 :\n",
    "            table2.loc[i,'difficulty'] = 2\n",
    "            \n",
    "        table2.to_csv('Final2.csv', index=False)\n",
    "            "
   ]
  },
  {
   "cell_type": "code",
   "execution_count": 16,
   "metadata": {},
   "outputs": [],
   "source": [
    "df2 = pd.read_csv('Final2.csv')"
   ]
  },
  {
   "cell_type": "code",
   "execution_count": 68,
   "metadata": {},
   "outputs": [
    {
     "data": {
      "image/png": "[encoded data removed]",
      "text/plain": [
       "<Figure size 432x288 with 1 Axes>"
      ]
     },
     "metadata": {},
     "output_type": "display_data"
    }
   ],
   "source": [
    "%matplotlib inline\n",
    "array = df2.to_numpy() \n",
    "#Plots\n",
    "#pie plot\n",
    "X,Y = df2['difficulty'].value_counts()\n",
    "P = [X,Y]\n",
    "labels = ['Normal questions','Difficult questions']\n",
    "plt.pie(P,labels = labels)\n",
    "plt.show()"
   ]
  },
  {
   "cell_type": "markdown",
   "metadata": {},
   "source": [
    "The plot below shows the number of answers submitted for each question (we just plotted for first 20 questions)"
   ]
  },
  {
   "cell_type": "code",
   "execution_count": 109,
   "metadata": {},
   "outputs": [
    {
     "data": {
      "image/png": "[encoded data removed]",
      "text/plain": [
       "<Figure size 432x288 with 1 Axes>"
      ]
     },
     "metadata": {
      "needs_background": "light"
     },
     "output_type": "display_data"
    }
   ],
   "source": [
    "%matplotlib inline\n",
    "x = array[:20,0]\n",
    "y = array[:20,2]\n",
    "\n",
    "#plt.hist(x, y)\n",
    "#fig, axs = plt.subplots(1, 2, sharey=True, tight_layout=True)\n",
    "plt.bar(x, y)\n",
    "\n",
    "plt.title('The number of times each question has  been  practiced')\n",
    "plt.xlabel('Question ID')\n",
    "plt.ylabel('The number of times that it is practiced')\n",
    "plt.xticks(rotation=90)\n",
    "plt.show()\n"
   ]
  },
  {
   "cell_type": "code",
   "execution_count": 110,
   "metadata": {
    "scrolled": true
   },
   "outputs": [
    {
     "data": {
      "image/png": "[encoded data removed]",
      "text/plain": [
       "<Figure size 432x288 with 1 Axes>"
      ]
     },
     "metadata": {
      "needs_background": "light"
     },
     "output_type": "display_data"
    }
   ],
   "source": [
    "Q1 = array[:20,2]\n",
    "Q2 = array[:20,3]\n",
    "Q = np.divide(Q2, Q1, out=np.zeros_like(Q2), where=Q1!=0)\n",
    "plt.bar(x, Q)\n",
    "plt.title('The accuracy per question')\n",
    "plt.xlabel('Question ID')\n",
    "plt.ylabel('The accuracy of each question')\n",
    "plt.xticks(rotation=90)\n",
    "plt.show()"
   ]
  },
  {
   "cell_type": "markdown",
   "metadata": {},
   "source": [
    "### Table 1:"
   ]
  },
  {
   "cell_type": "markdown",
   "metadata": {},
   "source": [
    "### Question 1:\n",
    "Who are the users?  \n",
    "#### Overall practice volume and performance (e.g. # of questions answered, % of questions answered correctly):\n",
    "The columns answers and correct_answers show the number of questions answered and questions anwered correctly, respectively. \n",
    "#### Learning activity (e.g. # lectures watched, # explanation read)\n",
    "I counted the lectures whatched and auido listened (but if for example he/she watched a lecture more than one time, or paused and resumed it, I just counted it one time). \n",
    "#### Add three additional metrics you would like to compute to describe users\n",
    "I added these three metrics to the user profile table:\n",
    "For learning activity I also added audio listened.\n",
    "I added a column with the name difficulty level 1 it means how many easy questions he/she answered correctly\n",
    "difficulty level 2 means how many hard (or not easy) questions he/she has done correctly.\n",
    "I also added accuracy percent that means percentage of his/her correct answers among all of the questions that he/she has answered \n",
    "#### Create a few plots to illustrate the information in the tables. Feel free to choose the type of plots you think is appropriate. \n",
    "I added the plots\n"
   ]
  },
  {
   "cell_type": "code",
   "execution_count": 46,
   "metadata": {},
   "outputs": [],
   "source": [
    "\n",
    "import os\n",
    "\n",
    "\n",
    "\n",
    "# All files\n",
    "arr = sorted(os.listdir('KT4'))\n",
    "\n",
    "L = len (arr)\n",
    "# defining the headers of the table 1\n",
    "header = ['user_id','answers','correct_answers','difficulty level 1','difficulty level 2','Learning activity','accuracy percent']\n",
    "\n",
    "#load data\n",
    "\n",
    "array = df_c.to_numpy() \n",
    "\n",
    "with open('Final.csv','w',encoding = 'UTF8',newline='') as f:\n",
    "    writer = csv.writer(f)\n",
    "        \n",
    "    writer.writerow(header)\n",
    "#correct array\n",
    "\n",
    "C_a = []\n",
    "C_ID = []\n",
    "for k in range (len(df_c)):\n",
    "    C_a.append(df_c.loc[k]['correct_answer'])\n",
    "    C_ID.append(df_c.loc[k]['question_id'])\n",
    "    \n",
    "    \n",
    "\n",
    "#main\n",
    "#     10 >>> L\n",
    "\n",
    "\n",
    "for j in range (20):\n",
    "    \n",
    "    diff1 = 0\n",
    "    diff2 = 0\n",
    "    df = pd.read_csv('KT4/'+arr[j])\n",
    "    Arr = df.to_numpy() \n",
    "    res = ''\n",
    "    q = ''\n",
    "    Res = []\n",
    "    Q_ID = []\n",
    "    NUM = 0\n",
    "#I want to add a new column to table 1 as learning activity, I define it as : the number of lectures they watched. \n",
    "#I am trying to wirte a code to not count repetetive lectures. \n",
    "#So, if the item id of the lecture is the same as the previous one, the code does NOT caunt it twice.\n",
    "\n",
    "    learn = []\n",
    "    L_ID = []\n",
    "    #learning activity\n",
    "    X0,Y0 = np.where(Arr == 'play_video')\n",
    "    X1,Y1 = np.where(Arr == 'play_audio')\n",
    "    X0 = np.concatenate((X0, X1), axis=0)\n",
    "    CHeck = ''\n",
    "    for B in range(len(X0)):\n",
    "        \n",
    "        if CHeck == Arr[X0[B]][2] :\n",
    "            learn[len(learn)-1] = Arr[X0[B]][5]\n",
    "        else :\n",
    "            learn.append(Arr[X0[B]][5])\n",
    "            L_ID.append(Arr[X0[B]][2])\n",
    "        CHeck = Arr[X0[B]][2]\n",
    "    \n",
    "    #check respond\n",
    "    \n",
    "    X,Y = np.where(Arr == 'respond')\n",
    "    CHeck = ''\n",
    "    for B in range (len(X)) :\n",
    "        \n",
    "        if CHeck == Arr[X[B]][2] :\n",
    "            Res[len(Res)-1] = Arr[X[B]][5]\n",
    "        else :\n",
    "            Res.append(Arr[X[B]][5])\n",
    "            Q_ID.append(Arr[X[B]][2])\n",
    "        CHeck = Arr[X[B]][2]\n",
    "        \n",
    "\n",
    "    \n",
    "    \n",
    "    #check answers\n",
    "    num = 0\n",
    "    for p in range (len(Q_ID)):\n",
    "        v = C_ID.index(Q_ID[p])\n",
    "        if Res[p] == C_a[v] :\n",
    "            num += 1\n",
    "            if df2.loc[p]['difficulty'] == 1 :\n",
    "                diff1 += 1\n",
    "            if df2.loc[p]['difficulty'] == 2 :\n",
    "                diff2 += 1\n",
    "            \n",
    "  #Also, accuracy should be added for table 1 which is the percent of correct answers for each user.            \n",
    "    # df_f.loc[0].iat[0]\n",
    "    uid = arr[j]\n",
    "    uid = uid.strip('.csv')\n",
    "    data = [uid,len(Q_ID),num,diff1,diff2,len(learn),round((num/len(Q_ID))*100,2)]\n",
    "    with open('Final.csv','a',encoding = 'UTF8',newline='') as f:\n",
    "        writer = csv.writer(f)\n",
    "        writer.writerow(data)\n",
    "    \n",
    "    \n",
    "    \n",
    "    \n",
    "            \n",
    "        \n",
    "    "
   ]
  },
  {
   "cell_type": "code",
   "execution_count": 47,
   "metadata": {},
   "outputs": [],
   "source": [
    "table1 = pd.read_csv('Final.csv')"
   ]
  },
  {
   "cell_type": "code",
   "execution_count": 48,
   "metadata": {},
   "outputs": [
    {
     "name": "stdout",
     "output_type": "stream",
     "text": [
      "    user_id  answers  correct_answers  difficulty level 1  difficulty level 2  \\\n",
      "0        u1      501              349                 302                  17   \n",
      "1       u10        1                1                   1                   0   \n",
      "2      u100       22               11                  11                   0   \n",
      "3     u1000      987              625                 545                  29   \n",
      "4    u10004     1705             1221                1048                  66   \n",
      "5   u100043      694              310                 271                  14   \n",
      "6    u10005      507              363                 313                  16   \n",
      "7     u1001        7                2                   2                   0   \n",
      "8    u10010      124               81                  74                   2   \n",
      "9    u10011      379              269                 239                  10   \n",
      "10   u10013      131               73                  66                   2   \n",
      "11   u10014      731              547                 490                  23   \n",
      "12   u10015      889              559                 484                  28   \n",
      "13   u10019     1918             1518                1282                  99   \n",
      "14    u1002       60               47                  43                   1   \n",
      "15   u10020      172              116                 106                   1   \n",
      "16   u10021      139              101                  91                   3   \n",
      "17   u10026       61               44                  40                   2   \n",
      "18   u10028      640              450                 390                  21   \n",
      "19    u1003      156               77                  67                   4   \n",
      "\n",
      "    Learning activity  accuracy percent  \n",
      "0                 261             69.66  \n",
      "1                   0            100.00  \n",
      "2                  10             50.00  \n",
      "3                 520             63.32  \n",
      "4                 495             71.61  \n",
      "5                 351             44.67  \n",
      "6                 355             71.60  \n",
      "7                   0             28.57  \n",
      "8                  83             65.32  \n",
      "9                 205             70.98  \n",
      "10                 33             55.73  \n",
      "11                 38             74.83  \n",
      "12                388             62.88  \n",
      "13                892             79.14  \n",
      "14                 44             78.33  \n",
      "15                 75             67.44  \n",
      "16                 56             72.66  \n",
      "17                 50             72.13  \n",
      "18                 21             70.31  \n",
      "19                 33             49.36  \n"
     ]
    }
   ],
   "source": [
    "print(table1)"
   ]
  },
  {
   "cell_type": "code",
   "execution_count": 28,
   "metadata": {},
   "outputs": [
    {
     "name": "stdout",
     "output_type": "stream",
     "text": [
      "         Q_ID  Type  answer  C_answer  difficulty\n",
      "0          q1   NaN    1598      1408         1.0\n",
      "1          q2   NaN    1519      1294         1.0\n",
      "2          q3   NaN   13835      7423         1.0\n",
      "3          q4   NaN    5086      3836         1.0\n",
      "4          q5   NaN    3750      2345         1.0\n",
      "...       ...   ...     ...       ...         ...\n",
      "13164  q13165   NaN     191       159         1.0\n",
      "13165  q13166   NaN     176       159         1.0\n",
      "13166  q13167   NaN     179       169         1.0\n",
      "13167  q13168   NaN     173       158         1.0\n",
      "13168  q13169   NaN     185       163         1.0\n",
      "\n",
      "[13169 rows x 5 columns]\n"
     ]
    }
   ],
   "source": [
    "table2 = pd.read_csv('Final2.csv')\n",
    "#print(table2.iloc[0:200,:])\n",
    "print(table2)"
   ]
  },
  {
   "cell_type": "markdown",
   "metadata": {},
   "source": [
    "For 10 users we show the performance on different types of questions."
   ]
  },
  {
   "cell_type": "code",
   "execution_count": 113,
   "metadata": {},
   "outputs": [
    {
     "data": {
      "image/png": "[encoded data removed]",
      "text/plain": [
       "<Figure size 432x288 with 1 Axes>"
      ]
     },
     "metadata": {
      "needs_background": "light"
     },
     "output_type": "display_data"
    }
   ],
   "source": [
    "arr = os.listdir('KT4')\n",
    "ID = []\n",
    "dif1 = []\n",
    "dif2 = []\n",
    "for i in range (10):\n",
    "    df = pd.read_csv('Final.csv')\n",
    "    dif1.append(df.loc[i]['difficulty level 1'])\n",
    "    dif2.append(df.loc[i]['difficulty level 2'])\n",
    "    ID.append(df.loc[i]['user_id'])\n",
    "    \n",
    "\n",
    "\n",
    "X_axis = np.arange(len(ID))\n",
    "plt.bar(X_axis - 0.2, dif1, 0.4, label = 'Normal questions')\n",
    "plt.bar(X_axis + 0.2, dif2, 0.4, label = 'Difficult questions')\n",
    "plt.xticks(X_axis, ID)\n",
    "plt.xlabel(\"User\")\n",
    "plt.title(\"Number of normal & difficult questions that each user has answered correctly\")\n",
    "plt.legend()\n",
    "plt.xticks(rotation=90)\n",
    "plt.show()"
   ]
  },
  {
   "cell_type": "code",
   "execution_count": 118,
   "metadata": {},
   "outputs": [
    {
     "data": {
      "image/png": "[encoded data removed]",
      "text/plain": [
       "<Figure size 432x288 with 1 Axes>"
      ]
     },
     "metadata": {
      "needs_background": "light"
     },
     "output_type": "display_data"
    }
   ],
   "source": [
    "array1 = table1.to_numpy()\n",
    "x0 = array1[:20,0]\n",
    "x1 = array1[:20,6]\n",
    "\n",
    "\n",
    "plt.bar(x0, x1)\n",
    "plt.title('The performance accuracy for each user')\n",
    "plt.xlabel('User ID')\n",
    "plt.ylabel('The accuracy of the user answers')\n",
    "plt.xticks(rotation=90)\n",
    "plt.show()"
   ]
  },
  {
   "cell_type": "markdown",
   "metadata": {},
   "source": [
    "Now we have table 1 (user profile) and table 2 (questions profile)."
   ]
  },
  {
   "cell_type": "markdown",
   "metadata": {},
   "source": [
    "### Question 3:\n",
    "#### Design a modified metric of “accuracy” to fairly describe users’ ability by taking into account the difficulty level as derived from Table 2. Describe the procedure to compute the metrics.  Be sure to be specific so that interns can use your pseudo code to implement the metrics without much trouble. \n",
    "I have done this in the previous cells. For each user as we mentioned before \"accuracy percent\" is defined, and it means \"the number of questions answered correctly/the number of questions answered\" which shows user's ability in answering the questions. We also had defined the difficulty level for each question in the section of table 2 (Question 2). For a modified accuracy regarding difficulty level of the questions, I can also calculate \"the percentage of difficult questions answered correctly= the number of difficult questions answered correctly/ the number of questions answered correctly\". i will name it percentage of difficult questions answered and the column name is percent_difficlut_questions_correctly.\n",
    "#### implement the proposed metrics and plot a histogram of the metrics across all users (or subset of users of your choices). \n",
    "I have applied the first proposed metric for all of the 500 users ( for lack of storage, I just considered 500 of the users). For the second I applied it for 20 users as below. Also, the plot is added. \n"
   ]
  },
  {
   "cell_type": "code",
   "execution_count": 115,
   "metadata": {},
   "outputs": [
    {
     "data": {
      "image/png": "[encoded data removed]",
      "text/plain": [
       "<Figure size 432x288 with 1 Axes>"
      ]
     },
     "metadata": {
      "needs_background": "light"
     },
     "output_type": "display_data"
    }
   ],
   "source": [
    "array1 = table1.to_numpy()\n",
    "X0 = array1[:20,0]\n",
    "X1 = array1[:20,2]\n",
    "X2 = array1[:20,4]\n",
    "accuracy_difficult_Qs = np.divide(X2, X1, out=np.zeros_like(X2), where=X1!=0)\n",
    "\n",
    "plt.bar(X0, accuracy_difficult_Qs)\n",
    "plt.title('The accuracy of difficult questions per user')\n",
    "plt.xlabel('User ID')\n",
    "plt.ylabel('The accuracy of difficult questions')\n",
    "plt.xticks(rotation=90)\n",
    "plt.show()"
   ]
  },
  {
   "cell_type": "markdown",
   "metadata": {},
   "source": [
    "### Question 4:\n",
    "#### Pick a user with a reasonable amount of activity (you will define the “reasonableness” and specify the selection criteria) and create a dashboard that consists of a series of plots to tell a story of this user’s activity patterns. For inspiration, you may look at the user dashboard for fitness tracker such as Fitbit. \n"
   ]
  },
  {
   "cell_type": "code",
   "execution_count": 117,
   "metadata": {},
   "outputs": [
    {
     "name": "stdout",
     "output_type": "stream",
     "text": [
      "User Data :\n",
      "user_id               u100043\n",
      "answers                   694\n",
      "correct_answers           310\n",
      "difficulty level 1        271\n",
      "difficulty level 2         14\n",
      "Learning activity         351\n",
      "accuracy percent        44.67\n",
      "Name: 5, dtype: object\n"
     ]
    },
    {
     "data": {
      "image/png": "[encoded data removed]",
      "text/plain": [
       "<Figure size 432x288 with 1 Axes>"
      ]
     },
     "metadata": {},
     "output_type": "display_data"
    },
    {
     "data": {
      "image/png": "[encoded data removed]",
      "text/plain": [
       "<Figure size 432x288 with 1 Axes>"
      ]
     },
     "metadata": {
      "needs_background": "light"
     },
     "output_type": "display_data"
    }
   ],
   "source": [
    "#sample user \n",
    "# USer 7\n",
    "import pandas as pd\n",
    "import matplotlib.pyplot as plt\n",
    "\n",
    "df7 = pd.read_csv('KT4/u7.csv')\n",
    "df = pd.read_csv('Final.csv')\n",
    "print('User Data :')\n",
    "print(df.loc[5])\n",
    "\n",
    "#pie plot\n",
    "P = [df.loc[5][3],df.loc[5][4]]\n",
    "labels = ['The Number of Normal Qs Answered Correctly','The Number of Difficult Qs Answered Correctly']\n",
    "plt.pie(P,labels = labels)\n",
    "plt.show()\n",
    "\n",
    "#bar plot\n",
    "\n",
    "labels = ['The Number of Questions Answered ','The Number of Questions Answered Correctly ','The Number of Normal Questions Answered Correctly ','The Number of Difficult Questions Answered Correctly','Your Learning activity ']\n",
    "x = df.loc[5][1:6]\n",
    "plt.bar(labels,x)\n",
    "plt.xticks(rotation=90)\n",
    "plt.show()\n"
   ]
  },
  {
   "cell_type": "code",
   "execution_count": 122,
   "metadata": {},
   "outputs": [
    {
     "data": {
      "image/png": "[encoded data removed]",
      "text/plain": [
       "<Figure size 432x288 with 1 Axes>"
      ]
     },
     "metadata": {},
     "output_type": "display_data"
    }
   ],
   "source": [
    "\n",
    "\n",
    "#pie plot\n",
    "P2 = [df.loc[5][1],df.loc[5][5]]\n",
    "labels = ['The Number of Questions Answered by You','The Number of Lectures watched or Audio Listened']\n",
    "plt.pie(P,labels = labels)\n",
    "plt.show()\n",
    "\n"
   ]
  },
  {
   "cell_type": "code",
   "execution_count": 126,
   "metadata": {},
   "outputs": [
    {
     "data": {
      "image/png": "[encoded data removed]",
      "text/plain": [
       "<Figure size 432x288 with 1 Axes>"
      ]
     },
     "metadata": {
      "needs_background": "light"
     },
     "output_type": "display_data"
    }
   ],
   "source": [
    "#bar plot\n",
    "\n",
    "labels = ['The Number of Questions Answered by You','Number of Your Correct Answeres' ,'Your Performance Accuracy ']\n",
    "x2 = [df.loc[5][1], df.loc[5][3], df.loc[5][6]]\n",
    "plt.bar(labels,x2)\n",
    "plt.xticks(rotation=90)\n",
    "plt.show()"
   ]
  },
  {
   "cell_type": "code",
   "execution_count": 120,
   "metadata": {},
   "outputs": [
    {
     "name": "stdout",
     "output_type": "stream",
     "text": [
      "user_id               u100043\n",
      "answers                   694\n",
      "correct_answers           310\n",
      "difficulty level 1        271\n",
      "difficulty level 2         14\n",
      "Learning activity         351\n",
      "accuracy percent        44.67\n",
      "Name: 5, dtype: object\n"
     ]
    }
   ],
   "source": [
    "print(df.loc[5])"
   ]
  },
  {
   "cell_type": "markdown",
   "metadata": {},
   "source": [
    "### Question 5:\n",
    "#### Propose two tasks for your interns to work on. The first task is of unsupervised/descriptive type and a second one is of supervised/predictive task. Please provide clear specification of the tasks so that your interns can start to work right away. You should try to propose tasks that are not attempted in the existing work with this dataset. \n"
   ]
  },
  {
   "cell_type": "markdown",
   "metadata": {},
   "source": [
    "ask the intern to do a clustering on table 1, to have the users in different clusters. Then we can analyze their behaviour in each cluster. For this I suggest K-means or the other clustering methods. Also, it is good to do the clustering based on different features, and compare the results. I do expect the evaluation of her/his modelThe next task can be predicting the user's learning activity based on the other features that are more about the questions they have answered. For doing this supervised task, the intern has to pay enough attention to the correlation of the features. For example, obviously the accuracy column is correlated with the number of questions answered. The intern has to ignore some correlated features that do not contribute to the info, or make a new feature containing the info of the correlated features. Then, predict the learning activity using some regression models. And evaluate her/his model with the hold-out-dataset  method ."
   ]
  },
  {
   "cell_type": "code",
   "execution_count": null,
   "metadata": {},
   "outputs": [],
   "source": []
  }
 ],
 "metadata": {
  "kernelspec": {
   "display_name": "Python 3",
   "language": "python",
   "name": "python3"
  },
  "language_info": {
   "codemirror_mode": {
    "name": "ipython",
    "version": 3
   },
   "file_extension": ".py",
   "mimetype": "text/x-python",
   "name": "python",
   "nbconvert_exporter": "python",
   "pygments_lexer": "ipython3",
   "version": "3.7.4"
  }
 },
 "nbformat": 4,
 "nbformat_minor": 2
}
